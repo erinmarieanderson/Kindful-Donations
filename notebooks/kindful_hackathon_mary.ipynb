{
 "cells": [
  {
   "cell_type": "code",
   "execution_count": 1,
   "metadata": {
    "collapsed": true
   },
   "outputs": [],
   "source": [
    "import pandas as pd\n",
    "import matplotlib.pyplot as plt\n",
    "import seaborn as sns\n",
    "import numpy as np\n",
    "\n",
    "%matplotlib inline"
   ]
  },
  {
   "cell_type": "code",
   "execution_count": 2,
   "metadata": {},
   "outputs": [
    {
     "data": {
      "text/plain": [
       "(4687884, 3)"
      ]
     },
     "execution_count": 2,
     "metadata": {},
     "output_type": "execute_result"
    }
   ],
   "source": [
    "donor_df = pd.read_csv('data/donations.csv')\n",
    "donor_df.shape"
   ]
  },
  {
   "cell_type": "code",
   "execution_count": 3,
   "metadata": {},
   "outputs": [
    {
     "data": {
      "text/html": [
       "<div>\n",
       "<style scoped>\n",
       "    .dataframe tbody tr th:only-of-type {\n",
       "        vertical-align: middle;\n",
       "    }\n",
       "\n",
       "    .dataframe tbody tr th {\n",
       "        vertical-align: top;\n",
       "    }\n",
       "\n",
       "    .dataframe thead th {\n",
       "        text-align: right;\n",
       "    }\n",
       "</style>\n",
       "<table border=\"1\" class=\"dataframe\">\n",
       "  <thead>\n",
       "    <tr style=\"text-align: right;\">\n",
       "      <th></th>\n",
       "      <th>id</th>\n",
       "      <th>created_at</th>\n",
       "      <th>amount</th>\n",
       "    </tr>\n",
       "  </thead>\n",
       "  <tbody>\n",
       "    <tr>\n",
       "      <th>0</th>\n",
       "      <td>00000ce845c00cbf0686c992fc369df4</td>\n",
       "      <td>2013-12-17 21:47:14</td>\n",
       "      <td>50.0</td>\n",
       "    </tr>\n",
       "    <tr>\n",
       "      <th>1</th>\n",
       "      <td>00002783bc5d108510f3f9666c8b1edd</td>\n",
       "      <td>2016-02-02 18:34:27</td>\n",
       "      <td>99.0</td>\n",
       "    </tr>\n",
       "  </tbody>\n",
       "</table>\n",
       "</div>"
      ],
      "text/plain": [
       "                                 id           created_at  amount\n",
       "0  00000ce845c00cbf0686c992fc369df4  2013-12-17 21:47:14    50.0\n",
       "1  00002783bc5d108510f3f9666c8b1edd  2016-02-02 18:34:27    99.0"
      ]
     },
     "execution_count": 3,
     "metadata": {},
     "output_type": "execute_result"
    }
   ],
   "source": [
    "donor_df.head(2)"
   ]
  },
  {
   "cell_type": "code",
   "execution_count": 4,
   "metadata": {},
   "outputs": [
    {
     "name": "stdout",
     "output_type": "stream",
     "text": [
      "<class 'pandas.core.frame.DataFrame'>\n",
      "RangeIndex: 4687884 entries, 0 to 4687883\n",
      "Data columns (total 3 columns):\n",
      "id            object\n",
      "created_at    object\n",
      "amount        float64\n",
      "dtypes: float64(1), object(2)\n",
      "memory usage: 107.3+ MB\n"
     ]
    }
   ],
   "source": [
    "donor_df.info()"
   ]
  },
  {
   "cell_type": "code",
   "execution_count": 5,
   "metadata": {},
   "outputs": [
    {
     "name": "stdout",
     "output_type": "stream",
     "text": [
      "<class 'pandas.core.frame.DataFrame'>\n",
      "RangeIndex: 4687884 entries, 0 to 4687883\n",
      "Data columns (total 3 columns):\n",
      "id            object\n",
      "created_at    datetime64[ns]\n",
      "amount        float64\n",
      "dtypes: datetime64[ns](1), float64(1), object(1)\n",
      "memory usage: 107.3+ MB\n"
     ]
    }
   ],
   "source": [
    "donor_df.created_at = pd.to_datetime(donor_df.created_at)\n",
    "donor_df.info()"
   ]
  },
  {
   "cell_type": "code",
   "execution_count": 6,
   "metadata": {},
   "outputs": [
    {
     "data": {
      "text/html": [
       "<div>\n",
       "<style scoped>\n",
       "    .dataframe tbody tr th:only-of-type {\n",
       "        vertical-align: middle;\n",
       "    }\n",
       "\n",
       "    .dataframe tbody tr th {\n",
       "        vertical-align: top;\n",
       "    }\n",
       "\n",
       "    .dataframe thead th {\n",
       "        text-align: right;\n",
       "    }\n",
       "</style>\n",
       "<table border=\"1\" class=\"dataframe\">\n",
       "  <thead>\n",
       "    <tr style=\"text-align: right;\">\n",
       "      <th></th>\n",
       "      <th>id</th>\n",
       "      <th>created_at</th>\n",
       "      <th>amount</th>\n",
       "      <th>year</th>\n",
       "    </tr>\n",
       "  </thead>\n",
       "  <tbody>\n",
       "    <tr>\n",
       "      <th>0</th>\n",
       "      <td>00000ce845c00cbf0686c992fc369df4</td>\n",
       "      <td>2013-12-17 21:47:14</td>\n",
       "      <td>50.0</td>\n",
       "      <td>2013</td>\n",
       "    </tr>\n",
       "    <tr>\n",
       "      <th>1</th>\n",
       "      <td>00002783bc5d108510f3f9666c8b1edd</td>\n",
       "      <td>2016-02-02 18:34:27</td>\n",
       "      <td>99.0</td>\n",
       "      <td>2016</td>\n",
       "    </tr>\n",
       "  </tbody>\n",
       "</table>\n",
       "</div>"
      ],
      "text/plain": [
       "                                 id          created_at  amount  year\n",
       "0  00000ce845c00cbf0686c992fc369df4 2013-12-17 21:47:14    50.0  2013\n",
       "1  00002783bc5d108510f3f9666c8b1edd 2016-02-02 18:34:27    99.0  2016"
      ]
     },
     "execution_count": 6,
     "metadata": {},
     "output_type": "execute_result"
    }
   ],
   "source": [
    "donor_df['year'] = donor_df.created_at.map(lambda x: x.year)\n",
    "donor_df.head(2)"
   ]
  },
  {
   "cell_type": "code",
   "execution_count": 7,
   "metadata": {},
   "outputs": [
    {
     "data": {
      "text/plain": [
       "2017    1190542\n",
       "2016     957265\n",
       "2015     783362\n",
       "2014     746608\n",
       "2013     573983\n",
       "2018     435975\n",
       "2012        149\n",
       "Name: year, dtype: int64"
      ]
     },
     "execution_count": 7,
     "metadata": {},
     "output_type": "execute_result"
    }
   ],
   "source": [
    "donor_df.year.value_counts()"
   ]
  },
  {
   "cell_type": "code",
   "execution_count": 8,
   "metadata": {},
   "outputs": [],
   "source": [
    "donor_df['date'] = donor_df.created_at.dt.date"
   ]
  },
  {
   "cell_type": "code",
   "execution_count": 9,
   "metadata": {
    "collapsed": true
   },
   "outputs": [],
   "source": [
    "donor_df['month'] = donor_df.created_at.map(lambda x: x.month)"
   ]
  },
  {
   "cell_type": "code",
   "execution_count": 15,
   "metadata": {
    "collapsed": true
   },
   "outputs": [],
   "source": [
    "month_labels = ['Jan', 'Feb', 'Mar', 'Apr', 'May', \n",
    "              'Jun', 'Jul', 'Aug', 'Sep', 'Oct', \n",
    "              'Nov', 'Dec']"
   ]
  },
  {
   "cell_type": "code",
   "execution_count": 10,
   "metadata": {},
   "outputs": [],
   "source": [
    "month_dict = {1:'Jan', 2:'Feb', 3:'Mar', 4:'Apr', 5:'May', \n",
    "              6:'Jun', 7:'Jul', 8:'Aug', 9:'Sep', 10:'Oct', \n",
    "              11:'Nov', 12:'Dec'}\n"
   ]
  },
  {
   "cell_type": "code",
   "execution_count": 11,
   "metadata": {
    "collapsed": true
   },
   "outputs": [],
   "source": [
    "donations2017 = donor_df.query('year == 2017')"
   ]
  },
  {
   "cell_type": "code",
   "execution_count": 12,
   "metadata": {},
   "outputs": [],
   "source": [
    "summary_2017 = donations2017.groupby('month')['amount'].agg(['count','mean']).reset_index()"
   ]
  },
  {
   "cell_type": "code",
   "execution_count": 13,
   "metadata": {},
   "outputs": [
    {
     "data": {
      "text/html": [
       "<div>\n",
       "<style scoped>\n",
       "    .dataframe tbody tr th:only-of-type {\n",
       "        vertical-align: middle;\n",
       "    }\n",
       "\n",
       "    .dataframe tbody tr th {\n",
       "        vertical-align: top;\n",
       "    }\n",
       "\n",
       "    .dataframe thead th {\n",
       "        text-align: right;\n",
       "    }\n",
       "</style>\n",
       "<table border=\"1\" class=\"dataframe\">\n",
       "  <thead>\n",
       "    <tr style=\"text-align: right;\">\n",
       "      <th></th>\n",
       "      <th>month</th>\n",
       "      <th>donation_count</th>\n",
       "      <th>average_donation</th>\n",
       "    </tr>\n",
       "  </thead>\n",
       "  <tbody>\n",
       "    <tr>\n",
       "      <th>0</th>\n",
       "      <td>Jan</td>\n",
       "      <td>95324</td>\n",
       "      <td>61.188116</td>\n",
       "    </tr>\n",
       "    <tr>\n",
       "      <th>1</th>\n",
       "      <td>Feb</td>\n",
       "      <td>94443</td>\n",
       "      <td>62.092240</td>\n",
       "    </tr>\n",
       "    <tr>\n",
       "      <th>2</th>\n",
       "      <td>Mar</td>\n",
       "      <td>115851</td>\n",
       "      <td>61.809301</td>\n",
       "    </tr>\n",
       "    <tr>\n",
       "      <th>3</th>\n",
       "      <td>Apr</td>\n",
       "      <td>54822</td>\n",
       "      <td>62.354161</td>\n",
       "    </tr>\n",
       "    <tr>\n",
       "      <th>4</th>\n",
       "      <td>May</td>\n",
       "      <td>59425</td>\n",
       "      <td>62.618421</td>\n",
       "    </tr>\n",
       "    <tr>\n",
       "      <th>5</th>\n",
       "      <td>Jun</td>\n",
       "      <td>56363</td>\n",
       "      <td>52.939171</td>\n",
       "    </tr>\n",
       "    <tr>\n",
       "      <th>6</th>\n",
       "      <td>Jul</td>\n",
       "      <td>95112</td>\n",
       "      <td>50.743368</td>\n",
       "    </tr>\n",
       "    <tr>\n",
       "      <th>7</th>\n",
       "      <td>Aug</td>\n",
       "      <td>169609</td>\n",
       "      <td>53.321241</td>\n",
       "    </tr>\n",
       "    <tr>\n",
       "      <th>8</th>\n",
       "      <td>Sep</td>\n",
       "      <td>120183</td>\n",
       "      <td>63.143887</td>\n",
       "    </tr>\n",
       "    <tr>\n",
       "      <th>9</th>\n",
       "      <td>Oct</td>\n",
       "      <td>114897</td>\n",
       "      <td>61.601824</td>\n",
       "    </tr>\n",
       "    <tr>\n",
       "      <th>10</th>\n",
       "      <td>Nov</td>\n",
       "      <td>115538</td>\n",
       "      <td>59.613867</td>\n",
       "    </tr>\n",
       "    <tr>\n",
       "      <th>11</th>\n",
       "      <td>Dec</td>\n",
       "      <td>98975</td>\n",
       "      <td>85.545633</td>\n",
       "    </tr>\n",
       "  </tbody>\n",
       "</table>\n",
       "</div>"
      ],
      "text/plain": [
       "   month  donation_count  average_donation\n",
       "0    Jan           95324         61.188116\n",
       "1    Feb           94443         62.092240\n",
       "2    Mar          115851         61.809301\n",
       "3    Apr           54822         62.354161\n",
       "4    May           59425         62.618421\n",
       "5    Jun           56363         52.939171\n",
       "6    Jul           95112         50.743368\n",
       "7    Aug          169609         53.321241\n",
       "8    Sep          120183         63.143887\n",
       "9    Oct          114897         61.601824\n",
       "10   Nov          115538         59.613867\n",
       "11   Dec           98975         85.545633"
      ]
     },
     "execution_count": 13,
     "metadata": {},
     "output_type": "execute_result"
    }
   ],
   "source": [
    "summary_2017.columns = ['month', 'donation_count', 'average_donation']\n",
    "summary_2017.month = summary_2017.month.replace(month_dict)\n",
    "summary_2017"
   ]
  },
  {
   "cell_type": "code",
   "execution_count": 16,
   "metadata": {},
   "outputs": [
    {
     "data": {
      "image/png": "[encoded data removed]",
      "text/plain": [
       "<Figure size 432x288 with 2 Axes>"
      ]
     },
     "metadata": {},
     "output_type": "display_data"
    }
   ],
   "source": [
    "fig, ax1 = plt.subplots()\n",
    "\n",
    "#ax1.set_xlabel('month')\n",
    "ax1.set_ylabel('number of donations', color='darkgreen')\n",
    "ax1.plot(summary_2017.month, summary_2017.donation_count, color='darkgreen')\n",
    "ax1.set_xticklabels(month_labels)\n",
    "\n",
    "ax1.tick_params(axis='y', labelcolor='darkgreen')\n",
    "\n",
    "ax2 = ax1.twinx()  \n",
    "\n",
    "ax2.set_ylabel('average donation', color='darkblue') \n",
    "ax2.plot(summary_2017.month, summary_2017.average_donation, color='darkblue')\n",
    "ax2.tick_params(axis='y', labelcolor='darkblue')\n",
    "plt.title('Donation Amount and Count by Month - 2017')\n",
    "fig.tight_layout();  "
   ]
  },
  {
   "cell_type": "code",
   "execution_count": 17,
   "metadata": {
    "scrolled": true
   },
   "outputs": [
    {
     "data": {
      "text/html": [
       "<div>\n",
       "<style scoped>\n",
       "    .dataframe tbody tr th:only-of-type {\n",
       "        vertical-align: middle;\n",
       "    }\n",
       "\n",
       "    .dataframe tbody tr th {\n",
       "        vertical-align: top;\n",
       "    }\n",
       "\n",
       "    .dataframe thead th {\n",
       "        text-align: right;\n",
       "    }\n",
       "</style>\n",
       "<table border=\"1\" class=\"dataframe\">\n",
       "  <thead>\n",
       "    <tr style=\"text-align: right;\">\n",
       "      <th></th>\n",
       "      <th>month</th>\n",
       "      <th>donation_count</th>\n",
       "      <th>average_donation</th>\n",
       "    </tr>\n",
       "  </thead>\n",
       "  <tbody>\n",
       "    <tr>\n",
       "      <th>0</th>\n",
       "      <td>Jan</td>\n",
       "      <td>116930</td>\n",
       "      <td>66.780766</td>\n",
       "    </tr>\n",
       "    <tr>\n",
       "      <th>1</th>\n",
       "      <td>Feb</td>\n",
       "      <td>87280</td>\n",
       "      <td>58.368450</td>\n",
       "    </tr>\n",
       "    <tr>\n",
       "      <th>2</th>\n",
       "      <td>Mar</td>\n",
       "      <td>95386</td>\n",
       "      <td>60.360870</td>\n",
       "    </tr>\n",
       "    <tr>\n",
       "      <th>3</th>\n",
       "      <td>Apr</td>\n",
       "      <td>111018</td>\n",
       "      <td>56.871813</td>\n",
       "    </tr>\n",
       "    <tr>\n",
       "      <th>4</th>\n",
       "      <td>May</td>\n",
       "      <td>25361</td>\n",
       "      <td>59.411944</td>\n",
       "    </tr>\n",
       "  </tbody>\n",
       "</table>\n",
       "</div>"
      ],
      "text/plain": [
       "  month  donation_count  average_donation\n",
       "0   Jan          116930         66.780766\n",
       "1   Feb           87280         58.368450\n",
       "2   Mar           95386         60.360870\n",
       "3   Apr          111018         56.871813\n",
       "4   May           25361         59.411944"
      ]
     },
     "execution_count": 17,
     "metadata": {},
     "output_type": "execute_result"
    }
   ],
   "source": [
    "donations2018 = donor_df.query('year == 2018')\n",
    "summary_2018 = donations2018.groupby('month')['amount'].agg(['count','mean']).reset_index()\n",
    "summary_2018.columns = ['month', 'donation_count', 'average_donation']\n",
    "summary_2018.month = summary_2018.month.replace(month_dict)\n",
    "\n",
    "summary_2018"
   ]
  },
  {
   "cell_type": "code",
   "execution_count": 18,
   "metadata": {},
   "outputs": [
    {
     "name": "stderr",
     "output_type": "stream",
     "text": [
      "/anaconda3/lib/python3.6/site-packages/pandas/core/frame.py:6692: FutureWarning: Sorting because non-concatenation axis is not aligned. A future version\n",
      "of pandas will change to not sort by default.\n",
      "\n",
      "To accept the future behavior, pass 'sort=False'.\n",
      "\n",
      "To retain the current behavior and silence the warning, pass 'sort=True'.\n",
      "\n",
      "  sort=sort)\n"
     ]
    }
   ],
   "source": [
    "extra_2018 = pd.DataFrame({'month':['Jun', 'Jul', 'Aug', 'Sep', 'Oct', \n",
    "                                    'Nov', 'Dec']})\n",
    "summary_2018 = summary_2018.append(extra_2018).reset_index()\n"
   ]
  },
  {
   "cell_type": "code",
   "execution_count": 19,
   "metadata": {},
   "outputs": [
    {
     "data": {
      "text/html": [
       "<div>\n",
       "<style scoped>\n",
       "    .dataframe tbody tr th:only-of-type {\n",
       "        vertical-align: middle;\n",
       "    }\n",
       "\n",
       "    .dataframe tbody tr th {\n",
       "        vertical-align: top;\n",
       "    }\n",
       "\n",
       "    .dataframe thead th {\n",
       "        text-align: right;\n",
       "    }\n",
       "</style>\n",
       "<table border=\"1\" class=\"dataframe\">\n",
       "  <thead>\n",
       "    <tr style=\"text-align: right;\">\n",
       "      <th></th>\n",
       "      <th>average_donation</th>\n",
       "      <th>donation_count</th>\n",
       "      <th>month</th>\n",
       "    </tr>\n",
       "  </thead>\n",
       "  <tbody>\n",
       "    <tr>\n",
       "      <th>0</th>\n",
       "      <td>66.780766</td>\n",
       "      <td>116930.0</td>\n",
       "      <td>Jan</td>\n",
       "    </tr>\n",
       "    <tr>\n",
       "      <th>1</th>\n",
       "      <td>58.368450</td>\n",
       "      <td>87280.0</td>\n",
       "      <td>Feb</td>\n",
       "    </tr>\n",
       "    <tr>\n",
       "      <th>2</th>\n",
       "      <td>60.360870</td>\n",
       "      <td>95386.0</td>\n",
       "      <td>Mar</td>\n",
       "    </tr>\n",
       "    <tr>\n",
       "      <th>3</th>\n",
       "      <td>56.871813</td>\n",
       "      <td>111018.0</td>\n",
       "      <td>Apr</td>\n",
       "    </tr>\n",
       "    <tr>\n",
       "      <th>4</th>\n",
       "      <td>59.411944</td>\n",
       "      <td>25361.0</td>\n",
       "      <td>May</td>\n",
       "    </tr>\n",
       "    <tr>\n",
       "      <th>5</th>\n",
       "      <td>NaN</td>\n",
       "      <td>NaN</td>\n",
       "      <td>Jun</td>\n",
       "    </tr>\n",
       "    <tr>\n",
       "      <th>6</th>\n",
       "      <td>NaN</td>\n",
       "      <td>NaN</td>\n",
       "      <td>Jul</td>\n",
       "    </tr>\n",
       "    <tr>\n",
       "      <th>7</th>\n",
       "      <td>NaN</td>\n",
       "      <td>NaN</td>\n",
       "      <td>Aug</td>\n",
       "    </tr>\n",
       "    <tr>\n",
       "      <th>8</th>\n",
       "      <td>NaN</td>\n",
       "      <td>NaN</td>\n",
       "      <td>Sep</td>\n",
       "    </tr>\n",
       "    <tr>\n",
       "      <th>9</th>\n",
       "      <td>NaN</td>\n",
       "      <td>NaN</td>\n",
       "      <td>Oct</td>\n",
       "    </tr>\n",
       "    <tr>\n",
       "      <th>10</th>\n",
       "      <td>NaN</td>\n",
       "      <td>NaN</td>\n",
       "      <td>Nov</td>\n",
       "    </tr>\n",
       "    <tr>\n",
       "      <th>11</th>\n",
       "      <td>NaN</td>\n",
       "      <td>NaN</td>\n",
       "      <td>Dec</td>\n",
       "    </tr>\n",
       "  </tbody>\n",
       "</table>\n",
       "</div>"
      ],
      "text/plain": [
       "    average_donation  donation_count month\n",
       "0          66.780766        116930.0   Jan\n",
       "1          58.368450         87280.0   Feb\n",
       "2          60.360870         95386.0   Mar\n",
       "3          56.871813        111018.0   Apr\n",
       "4          59.411944         25361.0   May\n",
       "5                NaN             NaN   Jun\n",
       "6                NaN             NaN   Jul\n",
       "7                NaN             NaN   Aug\n",
       "8                NaN             NaN   Sep\n",
       "9                NaN             NaN   Oct\n",
       "10               NaN             NaN   Nov\n",
       "11               NaN             NaN   Dec"
      ]
     },
     "execution_count": 19,
     "metadata": {},
     "output_type": "execute_result"
    }
   ],
   "source": [
    "summary_2018 = summary_2018.drop(columns = 'index')\n",
    "summary_2018"
   ]
  },
  {
   "cell_type": "code",
   "execution_count": 20,
   "metadata": {},
   "outputs": [
    {
     "data": {
      "image/png": "[encoded data removed]",
      "text/plain": [
       "<Figure size 432x288 with 2 Axes>"
      ]
     },
     "metadata": {},
     "output_type": "display_data"
    }
   ],
   "source": [
    "fig, ax1 = plt.subplots()\n",
    "\n",
    "#ax1.set_xlabel('month')\n",
    "ax1.set_ylabel('number of donations', color='darkgreen')\n",
    "ax1.plot(summary_2018.month, summary_2018.donation_count, color='darkgreen')\n",
    "ax1.tick_params(axis='y', labelcolor='darkgreen')\n",
    "ax1.set_xticklabels(month_labels)\n",
    "\n",
    "ax2 = ax1.twinx()  \n",
    "\n",
    "ax2.set_ylabel('average donation', color='darkblue') \n",
    "ax2.plot(summary_2018.month, summary_2018.average_donation, color='darkblue')\n",
    "ax2.tick_params(axis='y', labelcolor='darkblue')\n",
    "plt.title('Donation Amount and Count by Month - 2018')\n",
    "fig.tight_layout(); "
   ]
  },
  {
   "cell_type": "code",
   "execution_count": 21,
   "metadata": {},
   "outputs": [
    {
     "data": {
      "text/html": [
       "<div>\n",
       "<style scoped>\n",
       "    .dataframe tbody tr th:only-of-type {\n",
       "        vertical-align: middle;\n",
       "    }\n",
       "\n",
       "    .dataframe tbody tr th {\n",
       "        vertical-align: top;\n",
       "    }\n",
       "\n",
       "    .dataframe thead th {\n",
       "        text-align: right;\n",
       "    }\n",
       "</style>\n",
       "<table border=\"1\" class=\"dataframe\">\n",
       "  <thead>\n",
       "    <tr style=\"text-align: right;\">\n",
       "      <th></th>\n",
       "      <th>month</th>\n",
       "      <th>donation_count</th>\n",
       "      <th>average_donation</th>\n",
       "    </tr>\n",
       "  </thead>\n",
       "  <tbody>\n",
       "    <tr>\n",
       "      <th>0</th>\n",
       "      <td>Jan</td>\n",
       "      <td>22141</td>\n",
       "      <td>37.751697</td>\n",
       "    </tr>\n",
       "    <tr>\n",
       "      <th>1</th>\n",
       "      <td>Feb</td>\n",
       "      <td>32268</td>\n",
       "      <td>46.600065</td>\n",
       "    </tr>\n",
       "    <tr>\n",
       "      <th>2</th>\n",
       "      <td>Mar</td>\n",
       "      <td>32892</td>\n",
       "      <td>45.759248</td>\n",
       "    </tr>\n",
       "    <tr>\n",
       "      <th>3</th>\n",
       "      <td>Apr</td>\n",
       "      <td>28792</td>\n",
       "      <td>50.632642</td>\n",
       "    </tr>\n",
       "    <tr>\n",
       "      <th>4</th>\n",
       "      <td>May</td>\n",
       "      <td>33390</td>\n",
       "      <td>56.285474</td>\n",
       "    </tr>\n",
       "    <tr>\n",
       "      <th>5</th>\n",
       "      <td>Jun</td>\n",
       "      <td>28686</td>\n",
       "      <td>46.600674</td>\n",
       "    </tr>\n",
       "    <tr>\n",
       "      <th>6</th>\n",
       "      <td>Jul</td>\n",
       "      <td>35328</td>\n",
       "      <td>55.803212</td>\n",
       "    </tr>\n",
       "    <tr>\n",
       "      <th>7</th>\n",
       "      <td>Aug</td>\n",
       "      <td>62967</td>\n",
       "      <td>57.493021</td>\n",
       "    </tr>\n",
       "    <tr>\n",
       "      <th>8</th>\n",
       "      <td>Sep</td>\n",
       "      <td>93778</td>\n",
       "      <td>43.449210</td>\n",
       "    </tr>\n",
       "    <tr>\n",
       "      <th>9</th>\n",
       "      <td>Oct</td>\n",
       "      <td>65304</td>\n",
       "      <td>50.379131</td>\n",
       "    </tr>\n",
       "    <tr>\n",
       "      <th>10</th>\n",
       "      <td>Nov</td>\n",
       "      <td>60374</td>\n",
       "      <td>57.534702</td>\n",
       "    </tr>\n",
       "    <tr>\n",
       "      <th>11</th>\n",
       "      <td>Dec</td>\n",
       "      <td>78063</td>\n",
       "      <td>70.197976</td>\n",
       "    </tr>\n",
       "  </tbody>\n",
       "</table>\n",
       "</div>"
      ],
      "text/plain": [
       "   month  donation_count  average_donation\n",
       "0    Jan           22141         37.751697\n",
       "1    Feb           32268         46.600065\n",
       "2    Mar           32892         45.759248\n",
       "3    Apr           28792         50.632642\n",
       "4    May           33390         56.285474\n",
       "5    Jun           28686         46.600674\n",
       "6    Jul           35328         55.803212\n",
       "7    Aug           62967         57.493021\n",
       "8    Sep           93778         43.449210\n",
       "9    Oct           65304         50.379131\n",
       "10   Nov           60374         57.534702\n",
       "11   Dec           78063         70.197976"
      ]
     },
     "execution_count": 21,
     "metadata": {},
     "output_type": "execute_result"
    }
   ],
   "source": [
    "donations2013 = donor_df.query('year == 2013')\n",
    "summary_2013 = donations2013.groupby('month')['amount'].agg(['count','mean']).reset_index()\n",
    "summary_2013.columns = ['month', 'donation_count', 'average_donation']\n",
    "summary_2013.month = summary_2013.month.replace(month_dict)\n",
    "\n",
    "summary_2013"
   ]
  },
  {
   "cell_type": "code",
   "execution_count": 22,
   "metadata": {},
   "outputs": [
    {
     "data": {
      "image/png": "[encoded data removed]",
      "text/plain": [
       "<Figure size 432x288 with 2 Axes>"
      ]
     },
     "metadata": {},
     "output_type": "display_data"
    }
   ],
   "source": [
    "fig, ax1 = plt.subplots()\n",
    "\n",
    "#ax1.set_xlabel('month')\n",
    "ax1.set_ylabel('number of donations', color='darkgreen')\n",
    "ax1.plot(summary_2013.month, summary_2013.donation_count, color='darkgreen')\n",
    "ax1.tick_params(axis='y', labelcolor='darkgreen')\n",
    "ax1.set_xticklabels(month_labels)\n",
    "\n",
    "ax2 = ax1.twinx()  \n",
    "\n",
    "ax2.set_ylabel('average donation', color='darkblue') \n",
    "ax2.plot(summary_2013.month, summary_2013.average_donation, color='darkblue')\n",
    "ax2.tick_params(axis='y', labelcolor='darkblue')\n",
    "plt.title('Donation Amount and Count by Month - 2013')\n",
    "fig.tight_layout(); "
   ]
  },
  {
   "cell_type": "code",
   "execution_count": 23,
   "metadata": {},
   "outputs": [
    {
     "data": {
      "text/html": [
       "<div>\n",
       "<style scoped>\n",
       "    .dataframe tbody tr th:only-of-type {\n",
       "        vertical-align: middle;\n",
       "    }\n",
       "\n",
       "    .dataframe tbody tr th {\n",
       "        vertical-align: top;\n",
       "    }\n",
       "\n",
       "    .dataframe thead th {\n",
       "        text-align: right;\n",
       "    }\n",
       "</style>\n",
       "<table border=\"1\" class=\"dataframe\">\n",
       "  <thead>\n",
       "    <tr style=\"text-align: right;\">\n",
       "      <th></th>\n",
       "      <th>month</th>\n",
       "      <th>donation_count</th>\n",
       "      <th>average_donation</th>\n",
       "    </tr>\n",
       "  </thead>\n",
       "  <tbody>\n",
       "    <tr>\n",
       "      <th>0</th>\n",
       "      <td>Jan</td>\n",
       "      <td>50732</td>\n",
       "      <td>49.785258</td>\n",
       "    </tr>\n",
       "    <tr>\n",
       "      <th>1</th>\n",
       "      <td>Feb</td>\n",
       "      <td>55472</td>\n",
       "      <td>53.262573</td>\n",
       "    </tr>\n",
       "    <tr>\n",
       "      <th>2</th>\n",
       "      <td>Mar</td>\n",
       "      <td>68004</td>\n",
       "      <td>51.107286</td>\n",
       "    </tr>\n",
       "    <tr>\n",
       "      <th>3</th>\n",
       "      <td>Apr</td>\n",
       "      <td>45856</td>\n",
       "      <td>54.730149</td>\n",
       "    </tr>\n",
       "    <tr>\n",
       "      <th>4</th>\n",
       "      <td>May</td>\n",
       "      <td>38218</td>\n",
       "      <td>62.579786</td>\n",
       "    </tr>\n",
       "    <tr>\n",
       "      <th>5</th>\n",
       "      <td>Jun</td>\n",
       "      <td>34222</td>\n",
       "      <td>53.793597</td>\n",
       "    </tr>\n",
       "    <tr>\n",
       "      <th>6</th>\n",
       "      <td>Jul</td>\n",
       "      <td>47501</td>\n",
       "      <td>40.729740</td>\n",
       "    </tr>\n",
       "    <tr>\n",
       "      <th>7</th>\n",
       "      <td>Aug</td>\n",
       "      <td>103559</td>\n",
       "      <td>52.420747</td>\n",
       "    </tr>\n",
       "    <tr>\n",
       "      <th>8</th>\n",
       "      <td>Sep</td>\n",
       "      <td>89033</td>\n",
       "      <td>52.245893</td>\n",
       "    </tr>\n",
       "    <tr>\n",
       "      <th>9</th>\n",
       "      <td>Oct</td>\n",
       "      <td>73007</td>\n",
       "      <td>52.592143</td>\n",
       "    </tr>\n",
       "    <tr>\n",
       "      <th>10</th>\n",
       "      <td>Nov</td>\n",
       "      <td>54694</td>\n",
       "      <td>62.321544</td>\n",
       "    </tr>\n",
       "    <tr>\n",
       "      <th>11</th>\n",
       "      <td>Dec</td>\n",
       "      <td>86310</td>\n",
       "      <td>75.310093</td>\n",
       "    </tr>\n",
       "  </tbody>\n",
       "</table>\n",
       "</div>"
      ],
      "text/plain": [
       "   month  donation_count  average_donation\n",
       "0    Jan           50732         49.785258\n",
       "1    Feb           55472         53.262573\n",
       "2    Mar           68004         51.107286\n",
       "3    Apr           45856         54.730149\n",
       "4    May           38218         62.579786\n",
       "5    Jun           34222         53.793597\n",
       "6    Jul           47501         40.729740\n",
       "7    Aug          103559         52.420747\n",
       "8    Sep           89033         52.245893\n",
       "9    Oct           73007         52.592143\n",
       "10   Nov           54694         62.321544\n",
       "11   Dec           86310         75.310093"
      ]
     },
     "execution_count": 23,
     "metadata": {},
     "output_type": "execute_result"
    }
   ],
   "source": [
    "donations2014 = donor_df.query('year == 2014')\n",
    "summary_2014 = donations2014.groupby('month')['amount'].agg(['count','mean']).reset_index()\n",
    "summary_2014.columns = ['month', 'donation_count', 'average_donation']\n",
    "summary_2014.month = summary_2014.month.replace(month_dict)\n",
    "\n",
    "summary_2014"
   ]
  },
  {
   "cell_type": "code",
   "execution_count": 24,
   "metadata": {},
   "outputs": [
    {
     "data": {
      "image/png": "[encoded data removed]",
      "text/plain": [
       "<Figure size 432x288 with 2 Axes>"
      ]
     },
     "metadata": {},
     "output_type": "display_data"
    }
   ],
   "source": [
    "fig, ax1 = plt.subplots()\n",
    "\n",
    "#ax1.set_xlabel('month')\n",
    "ax1.set_ylabel('number of donations', color='darkgreen')\n",
    "ax1.plot(summary_2014.month, summary_2014.donation_count, color='darkgreen')\n",
    "ax1.tick_params(axis='y', labelcolor='darkgreen')\n",
    "ax1.set_xticklabels(month_labels)\n",
    "\n",
    "ax2 = ax1.twinx()  \n",
    "\n",
    "ax2.set_ylabel('average donation', color='darkblue') \n",
    "ax2.plot(summary_2014.month, summary_2014.average_donation, color='darkblue')\n",
    "ax2.tick_params(axis='y', labelcolor='darkblue')\n",
    "plt.title('Donation Amount and Count by Month - 2014')\n",
    "fig.tight_layout(); "
   ]
  },
  {
   "cell_type": "code",
   "execution_count": 25,
   "metadata": {},
   "outputs": [
    {
     "data": {
      "text/html": [
       "<div>\n",
       "<style scoped>\n",
       "    .dataframe tbody tr th:only-of-type {\n",
       "        vertical-align: middle;\n",
       "    }\n",
       "\n",
       "    .dataframe tbody tr th {\n",
       "        vertical-align: top;\n",
       "    }\n",
       "\n",
       "    .dataframe thead th {\n",
       "        text-align: right;\n",
       "    }\n",
       "</style>\n",
       "<table border=\"1\" class=\"dataframe\">\n",
       "  <thead>\n",
       "    <tr style=\"text-align: right;\">\n",
       "      <th></th>\n",
       "      <th>month</th>\n",
       "      <th>donation_count</th>\n",
       "      <th>average_donation</th>\n",
       "    </tr>\n",
       "  </thead>\n",
       "  <tbody>\n",
       "    <tr>\n",
       "      <th>0</th>\n",
       "      <td>Jan</td>\n",
       "      <td>67746</td>\n",
       "      <td>70.579179</td>\n",
       "    </tr>\n",
       "    <tr>\n",
       "      <th>1</th>\n",
       "      <td>Feb</td>\n",
       "      <td>61536</td>\n",
       "      <td>60.568281</td>\n",
       "    </tr>\n",
       "    <tr>\n",
       "      <th>2</th>\n",
       "      <td>Mar</td>\n",
       "      <td>63558</td>\n",
       "      <td>51.609643</td>\n",
       "    </tr>\n",
       "    <tr>\n",
       "      <th>3</th>\n",
       "      <td>Apr</td>\n",
       "      <td>43934</td>\n",
       "      <td>67.694106</td>\n",
       "    </tr>\n",
       "    <tr>\n",
       "      <th>4</th>\n",
       "      <td>May</td>\n",
       "      <td>40637</td>\n",
       "      <td>71.419878</td>\n",
       "    </tr>\n",
       "    <tr>\n",
       "      <th>5</th>\n",
       "      <td>Jun</td>\n",
       "      <td>31774</td>\n",
       "      <td>62.105477</td>\n",
       "    </tr>\n",
       "    <tr>\n",
       "      <th>6</th>\n",
       "      <td>Jul</td>\n",
       "      <td>42271</td>\n",
       "      <td>55.322516</td>\n",
       "    </tr>\n",
       "    <tr>\n",
       "      <th>7</th>\n",
       "      <td>Aug</td>\n",
       "      <td>100536</td>\n",
       "      <td>59.013288</td>\n",
       "    </tr>\n",
       "    <tr>\n",
       "      <th>8</th>\n",
       "      <td>Sep</td>\n",
       "      <td>99249</td>\n",
       "      <td>58.956176</td>\n",
       "    </tr>\n",
       "    <tr>\n",
       "      <th>9</th>\n",
       "      <td>Oct</td>\n",
       "      <td>74078</td>\n",
       "      <td>62.576244</td>\n",
       "    </tr>\n",
       "    <tr>\n",
       "      <th>10</th>\n",
       "      <td>Nov</td>\n",
       "      <td>63570</td>\n",
       "      <td>66.778474</td>\n",
       "    </tr>\n",
       "    <tr>\n",
       "      <th>11</th>\n",
       "      <td>Dec</td>\n",
       "      <td>94473</td>\n",
       "      <td>83.054312</td>\n",
       "    </tr>\n",
       "  </tbody>\n",
       "</table>\n",
       "</div>"
      ],
      "text/plain": [
       "   month  donation_count  average_donation\n",
       "0    Jan           67746         70.579179\n",
       "1    Feb           61536         60.568281\n",
       "2    Mar           63558         51.609643\n",
       "3    Apr           43934         67.694106\n",
       "4    May           40637         71.419878\n",
       "5    Jun           31774         62.105477\n",
       "6    Jul           42271         55.322516\n",
       "7    Aug          100536         59.013288\n",
       "8    Sep           99249         58.956176\n",
       "9    Oct           74078         62.576244\n",
       "10   Nov           63570         66.778474\n",
       "11   Dec           94473         83.054312"
      ]
     },
     "execution_count": 25,
     "metadata": {},
     "output_type": "execute_result"
    }
   ],
   "source": [
    "donations2015 = donor_df.query('year == 2015')\n",
    "summary_2015 = donations2015.groupby('month')['amount'].agg(['count','mean']).reset_index()\n",
    "summary_2015.columns = ['month', 'donation_count', 'average_donation']\n",
    "summary_2015.month = summary_2015.month.replace(month_dict)\n",
    "\n",
    "summary_2015"
   ]
  },
  {
   "cell_type": "code",
   "execution_count": 26,
   "metadata": {},
   "outputs": [
    {
     "data": {
      "image/png": "[encoded data removed]",
      "text/plain": [
       "<Figure size 432x288 with 2 Axes>"
      ]
     },
     "metadata": {},
     "output_type": "display_data"
    }
   ],
   "source": [
    "fig, ax1 = plt.subplots()\n",
    "\n",
    "#ax1.set_xlabel('month')\n",
    "ax1.set_ylabel('number of donations', color='darkgreen')\n",
    "ax1.plot(summary_2015.month, summary_2015.donation_count, color='darkgreen')\n",
    "ax1.tick_params(axis='y', labelcolor='darkgreen')\n",
    "ax1.set_xticklabels(month_labels)\n",
    "\n",
    "ax2 = ax1.twinx()  \n",
    "\n",
    "ax2.set_ylabel('average donation', color='darkblue') \n",
    "ax2.plot(summary_2015.month, summary_2015.average_donation, color='darkblue')\n",
    "ax2.tick_params(axis='y', labelcolor='darkblue')\n",
    "plt.title('Donation Amount and Count by Month - 2015')\n",
    "fig.tight_layout(); "
   ]
  },
  {
   "cell_type": "code",
   "execution_count": 27,
   "metadata": {},
   "outputs": [
    {
     "data": {
      "text/html": [
       "<div>\n",
       "<style scoped>\n",
       "    .dataframe tbody tr th:only-of-type {\n",
       "        vertical-align: middle;\n",
       "    }\n",
       "\n",
       "    .dataframe tbody tr th {\n",
       "        vertical-align: top;\n",
       "    }\n",
       "\n",
       "    .dataframe thead th {\n",
       "        text-align: right;\n",
       "    }\n",
       "</style>\n",
       "<table border=\"1\" class=\"dataframe\">\n",
       "  <thead>\n",
       "    <tr style=\"text-align: right;\">\n",
       "      <th></th>\n",
       "      <th>month</th>\n",
       "      <th>donation_count</th>\n",
       "      <th>average_donation</th>\n",
       "    </tr>\n",
       "  </thead>\n",
       "  <tbody>\n",
       "    <tr>\n",
       "      <th>0</th>\n",
       "      <td>Jan</td>\n",
       "      <td>59069</td>\n",
       "      <td>69.264690</td>\n",
       "    </tr>\n",
       "    <tr>\n",
       "      <th>1</th>\n",
       "      <td>Feb</td>\n",
       "      <td>65706</td>\n",
       "      <td>63.615200</td>\n",
       "    </tr>\n",
       "    <tr>\n",
       "      <th>2</th>\n",
       "      <td>Mar</td>\n",
       "      <td>89520</td>\n",
       "      <td>68.325545</td>\n",
       "    </tr>\n",
       "    <tr>\n",
       "      <th>3</th>\n",
       "      <td>Apr</td>\n",
       "      <td>48296</td>\n",
       "      <td>67.799017</td>\n",
       "    </tr>\n",
       "    <tr>\n",
       "      <th>4</th>\n",
       "      <td>May</td>\n",
       "      <td>46409</td>\n",
       "      <td>66.413189</td>\n",
       "    </tr>\n",
       "    <tr>\n",
       "      <th>5</th>\n",
       "      <td>Jun</td>\n",
       "      <td>40176</td>\n",
       "      <td>59.784969</td>\n",
       "    </tr>\n",
       "    <tr>\n",
       "      <th>6</th>\n",
       "      <td>Jul</td>\n",
       "      <td>65972</td>\n",
       "      <td>56.449454</td>\n",
       "    </tr>\n",
       "    <tr>\n",
       "      <th>7</th>\n",
       "      <td>Aug</td>\n",
       "      <td>140603</td>\n",
       "      <td>59.217704</td>\n",
       "    </tr>\n",
       "    <tr>\n",
       "      <th>8</th>\n",
       "      <td>Sep</td>\n",
       "      <td>116665</td>\n",
       "      <td>64.742922</td>\n",
       "    </tr>\n",
       "    <tr>\n",
       "      <th>9</th>\n",
       "      <td>Oct</td>\n",
       "      <td>81104</td>\n",
       "      <td>67.548704</td>\n",
       "    </tr>\n",
       "    <tr>\n",
       "      <th>10</th>\n",
       "      <td>Nov</td>\n",
       "      <td>106781</td>\n",
       "      <td>58.730850</td>\n",
       "    </tr>\n",
       "    <tr>\n",
       "      <th>11</th>\n",
       "      <td>Dec</td>\n",
       "      <td>96964</td>\n",
       "      <td>84.078709</td>\n",
       "    </tr>\n",
       "  </tbody>\n",
       "</table>\n",
       "</div>"
      ],
      "text/plain": [
       "   month  donation_count  average_donation\n",
       "0    Jan           59069         69.264690\n",
       "1    Feb           65706         63.615200\n",
       "2    Mar           89520         68.325545\n",
       "3    Apr           48296         67.799017\n",
       "4    May           46409         66.413189\n",
       "5    Jun           40176         59.784969\n",
       "6    Jul           65972         56.449454\n",
       "7    Aug          140603         59.217704\n",
       "8    Sep          116665         64.742922\n",
       "9    Oct           81104         67.548704\n",
       "10   Nov          106781         58.730850\n",
       "11   Dec           96964         84.078709"
      ]
     },
     "execution_count": 27,
     "metadata": {},
     "output_type": "execute_result"
    }
   ],
   "source": [
    "donations2016 = donor_df.query('year == 2016')\n",
    "summary_2016 = donations2016.groupby('month')['amount'].agg(['count','mean']).reset_index()\n",
    "summary_2016.columns = ['month', 'donation_count', 'average_donation']\n",
    "summary_2016.month = summary_2016.month.replace(month_dict)\n",
    "\n",
    "summary_2016"
   ]
  },
  {
   "cell_type": "code",
   "execution_count": 28,
   "metadata": {},
   "outputs": [
    {
     "data": {
      "image/png": "[encoded data removed]",
      "text/plain": [
       "<Figure size 432x288 with 2 Axes>"
      ]
     },
     "metadata": {},
     "output_type": "display_data"
    }
   ],
   "source": [
    "fig, ax1 = plt.subplots()\n",
    "\n",
    "#ax1.set_xlabel('month')\n",
    "ax1.set_ylabel('number of donations', color='darkgreen')\n",
    "ax1.plot(summary_2016.month, summary_2016.donation_count, color='darkgreen')\n",
    "ax1.tick_params(axis='y', labelcolor='darkgreen')\n",
    "ax1.set_xticklabels(month_labels)\n",
    "\n",
    "ax2 = ax1.twinx()  \n",
    "\n",
    "ax2.set_ylabel('average donation', color='darkblue') \n",
    "ax2.plot(summary_2016.month, summary_2016.average_donation, color='darkblue')\n",
    "ax2.tick_params(axis='y', labelcolor='darkblue')\n",
    "plt.title('Donation Amount and Count by Month - 2016')\n",
    "fig.tight_layout(); "
   ]
  },
  {
   "cell_type": "code",
   "execution_count": 29,
   "metadata": {
    "collapsed": true
   },
   "outputs": [],
   "source": [
    "donations2018 = donor_df.query('year == 2018')\n",
    "donations2017 = donor_df.query('year == 2017')\n",
    "donations2016 = donor_df.query('year == 2016')\n",
    "donations2015 = donor_df.query('year == 2015')\n",
    "donations2014 = donor_df.query('year == 2014')\n",
    "donations2013 = donor_df.query('year == 2013')"
   ]
  },
  {
   "cell_type": "markdown",
   "metadata": {},
   "source": [
    "### [`Giving Tuesday`](https://en.wikipedia.org/wiki/Giving_Tuesday) first came about in October 2012\n"
   ]
  },
  {
   "cell_type": "code",
   "execution_count": 30,
   "metadata": {
    "collapsed": true
   },
   "outputs": [],
   "source": [
    "giving_tuesdays = {2012:'2012-11-27', 2013:'2013-12-03', 2014:'2014-12-02',\n",
    "                  2015:'2015-12-01', 2016:'2016-11-29', 2017:'2017-11-28',\n",
    "                  2018:'2018-11-27'}"
   ]
  },
  {
   "cell_type": "markdown",
   "metadata": {},
   "source": [
    "### 2017"
   ]
  },
  {
   "cell_type": "code",
   "execution_count": 31,
   "metadata": {},
   "outputs": [
    {
     "data": {
      "text/plain": [
       "(33989, 6)"
      ]
     },
     "execution_count": 31,
     "metadata": {},
     "output_type": "execute_result"
    }
   ],
   "source": [
    "giving_day_2017 = donations2017.loc[donations2017.date.astype(str) == '2017-11-28']\n",
    "giving_day_2017.shape"
   ]
  },
  {
   "cell_type": "code",
   "execution_count": 34,
   "metadata": {
    "collapsed": true
   },
   "outputs": [],
   "source": [
    "grouped2017 = donations2017.groupby('date')['amount'].agg(['mean', 'count']).reset_index()\n",
    "most_donation_days_2017 = grouped2017.sort_values('count', ascending = False).head(5)"
   ]
  },
  {
   "cell_type": "code",
   "execution_count": 35,
   "metadata": {
    "collapsed": true
   },
   "outputs": [],
   "source": [
    "highest_avg_donation_days_2017 = grouped2017.sort_values('mean', ascending = False).head(5)"
   ]
  },
  {
   "cell_type": "code",
   "execution_count": 36,
   "metadata": {},
   "outputs": [
    {
     "name": "stdout",
     "output_type": "stream",
     "text": [
      "           date       mean  count\n",
      "331  2017-11-28  37.522097  33989\n",
      "87   2017-03-29  68.446919  31152\n",
      "           date        mean  count\n",
      "364  2017-12-31  135.793578   6039\n",
      "362  2017-12-29  117.364795   4240\n"
     ]
    }
   ],
   "source": [
    "print(most_donation_days_2017.head(2))\n",
    "print(highest_avg_donation_days_2017.head(2))"
   ]
  },
  {
   "cell_type": "code",
   "execution_count": 37,
   "metadata": {},
   "outputs": [
    {
     "name": "stdout",
     "output_type": "stream",
     "text": [
      "The average donation in 2017 was $ 61\n",
      "The average donation in 2017 on the day of giving was $ 38\n"
     ]
    }
   ],
   "source": [
    "print('The average donation in 2017 was $', round(donations2017.amount.mean()))\n",
    "print('The average donation in 2017 on the day of giving was $', round(giving_day_2017.amount.mean()))"
   ]
  },
  {
   "cell_type": "code",
   "execution_count": 38,
   "metadata": {},
   "outputs": [
    {
     "name": "stdout",
     "output_type": "stream",
     "text": [
      "The average number of donations on a day in 2017 was 3262\n",
      "The number of donations on the day of giving in 2017 was 33989\n"
     ]
    }
   ],
   "source": [
    "print('The average number of donations on a day in 2017 was', round(grouped2017['count'].mean()))\n",
    "print('The number of donations on the day of giving in 2017 was', giving_day_2017.shape[0])"
   ]
  },
  {
   "cell_type": "markdown",
   "metadata": {},
   "source": [
    "### 2016"
   ]
  },
  {
   "cell_type": "code",
   "execution_count": 39,
   "metadata": {},
   "outputs": [
    {
     "data": {
      "text/plain": [
       "65.44920292708946"
      ]
     },
     "execution_count": 39,
     "metadata": {},
     "output_type": "execute_result"
    }
   ],
   "source": [
    "donations2016.amount.mean()"
   ]
  },
  {
   "cell_type": "code",
   "execution_count": 40,
   "metadata": {},
   "outputs": [
    {
     "data": {
      "text/plain": [
       "(30834, 6)"
      ]
     },
     "execution_count": 40,
     "metadata": {},
     "output_type": "execute_result"
    }
   ],
   "source": [
    "giving_day_2016 = donations2016.loc[donations2016.date.astype(str) == '2016-11-29']\n",
    "giving_day_2016.shape"
   ]
  },
  {
   "cell_type": "code",
   "execution_count": 41,
   "metadata": {},
   "outputs": [
    {
     "data": {
      "text/plain": [
       "44.64098560031141"
      ]
     },
     "execution_count": 41,
     "metadata": {},
     "output_type": "execute_result"
    }
   ],
   "source": [
    "giving_day_2016.amount.mean()"
   ]
  },
  {
   "cell_type": "markdown",
   "metadata": {},
   "source": [
    "### 2018"
   ]
  },
  {
   "cell_type": "code",
   "execution_count": 42,
   "metadata": {},
   "outputs": [
    {
     "data": {
      "text/plain": [
       "60.74017198233782"
      ]
     },
     "execution_count": 42,
     "metadata": {},
     "output_type": "execute_result"
    }
   ],
   "source": [
    "donations2018.amount.mean()"
   ]
  },
  {
   "cell_type": "code",
   "execution_count": 43,
   "metadata": {},
   "outputs": [
    {
     "data": {
      "text/plain": [
       "(0, 6)"
      ]
     },
     "execution_count": 43,
     "metadata": {},
     "output_type": "execute_result"
    }
   ],
   "source": [
    "giving_day_2018 = donations2018.loc[donations2018.date.astype(str) == '2018-11-27']\n",
    "giving_day_2018.shape"
   ]
  },
  {
   "cell_type": "code",
   "execution_count": 44,
   "metadata": {},
   "outputs": [
    {
     "data": {
      "text/plain": [
       "datetime.date(2018, 5, 9)"
      ]
     },
     "execution_count": 44,
     "metadata": {},
     "output_type": "execute_result"
    }
   ],
   "source": [
    "donations2018.date.max()"
   ]
  },
  {
   "cell_type": "code",
   "execution_count": 45,
   "metadata": {},
   "outputs": [],
   "source": [
    "grouped2018 = donations2018.groupby('date')['amount'].agg(['mean', 'count']).reset_index()\n",
    "most_donation_days_2018 = grouped2018.sort_values('count', ascending = False).head(5)"
   ]
  },
  {
   "cell_type": "code",
   "execution_count": 46,
   "metadata": {},
   "outputs": [],
   "source": [
    "highest_avg_donation_days_2018 = grouped2018.sort_values('mean', ascending = False).head(5)"
   ]
  },
  {
   "cell_type": "code",
   "execution_count": 47,
   "metadata": {},
   "outputs": [
    {
     "name": "stdout",
     "output_type": "stream",
     "text": [
      "          date       mean  count\n",
      "24  2018-01-25  71.670685  33980\n",
      "25  2018-01-26  64.244622   6478\n",
      "          date        mean  count\n",
      "59  2018-03-01  102.225676   3122\n",
      "3   2018-01-04   91.152150   2084\n"
     ]
    }
   ],
   "source": [
    "print(most_donation_days_2018.head(2))\n",
    "print(highest_avg_donation_days_2018.head(2))"
   ]
  },
  {
   "cell_type": "code",
   "execution_count": 48,
   "metadata": {},
   "outputs": [],
   "source": [
    "top_5_donor_list = list(donor_df.id.value_counts().head(5).index)"
   ]
  },
  {
   "cell_type": "code",
   "execution_count": 49,
   "metadata": {},
   "outputs": [
    {
     "data": {
      "text/plain": [
       "(58571, 6)"
      ]
     },
     "execution_count": 49,
     "metadata": {},
     "output_type": "execute_result"
    }
   ],
   "source": [
    "top_5_df = donor_df.loc[donor_df.id.isin(top_5_donor_list)]\n",
    "top_5_df.shape"
   ]
  },
  {
   "cell_type": "code",
   "execution_count": 50,
   "metadata": {},
   "outputs": [
    {
     "data": {
      "text/html": [
       "<div>\n",
       "<style scoped>\n",
       "    .dataframe tbody tr th:only-of-type {\n",
       "        vertical-align: middle;\n",
       "    }\n",
       "\n",
       "    .dataframe tbody tr th {\n",
       "        vertical-align: top;\n",
       "    }\n",
       "\n",
       "    .dataframe thead th {\n",
       "        text-align: right;\n",
       "    }\n",
       "</style>\n",
       "<table border=\"1\" class=\"dataframe\">\n",
       "  <thead>\n",
       "    <tr style=\"text-align: right;\">\n",
       "      <th></th>\n",
       "      <th>id</th>\n",
       "      <th>created_at</th>\n",
       "      <th>amount</th>\n",
       "      <th>year</th>\n",
       "      <th>date</th>\n",
       "      <th>month</th>\n",
       "    </tr>\n",
       "  </thead>\n",
       "  <tbody>\n",
       "    <tr>\n",
       "      <th>665305</th>\n",
       "      <td>237db43817f34988f9d543ca518be4ee</td>\n",
       "      <td>2013-01-01 21:57:13</td>\n",
       "      <td>26.0</td>\n",
       "      <td>2013</td>\n",
       "      <td>2013-01-01</td>\n",
       "      <td>1</td>\n",
       "    </tr>\n",
       "    <tr>\n",
       "      <th>665306</th>\n",
       "      <td>237db43817f34988f9d543ca518be4ee</td>\n",
       "      <td>2013-01-01 22:12:53</td>\n",
       "      <td>25.0</td>\n",
       "      <td>2013</td>\n",
       "      <td>2013-01-01</td>\n",
       "      <td>1</td>\n",
       "    </tr>\n",
       "  </tbody>\n",
       "</table>\n",
       "</div>"
      ],
      "text/plain": [
       "                                      id          created_at  amount  year  \\\n",
       "665305  237db43817f34988f9d543ca518be4ee 2013-01-01 21:57:13    26.0  2013   \n",
       "665306  237db43817f34988f9d543ca518be4ee 2013-01-01 22:12:53    25.0  2013   \n",
       "\n",
       "              date  month  \n",
       "665305  2013-01-01      1  \n",
       "665306  2013-01-01      1  "
      ]
     },
     "execution_count": 50,
     "metadata": {},
     "output_type": "execute_result"
    }
   ],
   "source": [
    "top_5_df.head(2)"
   ]
  },
  {
   "cell_type": "code",
   "execution_count": 51,
   "metadata": {},
   "outputs": [
    {
     "data": {
      "text/html": [
       "<div>\n",
       "<style scoped>\n",
       "    .dataframe tbody tr th:only-of-type {\n",
       "        vertical-align: middle;\n",
       "    }\n",
       "\n",
       "    .dataframe tbody tr th {\n",
       "        vertical-align: top;\n",
       "    }\n",
       "\n",
       "    .dataframe thead th {\n",
       "        text-align: right;\n",
       "    }\n",
       "</style>\n",
       "<table border=\"1\" class=\"dataframe\">\n",
       "  <thead>\n",
       "    <tr style=\"text-align: right;\">\n",
       "      <th></th>\n",
       "      <th>id</th>\n",
       "      <th>year</th>\n",
       "      <th>amount</th>\n",
       "    </tr>\n",
       "  </thead>\n",
       "  <tbody>\n",
       "    <tr>\n",
       "      <th>0</th>\n",
       "      <td>237db43817f34988f9d543ca518be4ee</td>\n",
       "      <td>2013</td>\n",
       "      <td>7218.50</td>\n",
       "    </tr>\n",
       "    <tr>\n",
       "      <th>1</th>\n",
       "      <td>237db43817f34988f9d543ca518be4ee</td>\n",
       "      <td>2014</td>\n",
       "      <td>10010.54</td>\n",
       "    </tr>\n",
       "    <tr>\n",
       "      <th>2</th>\n",
       "      <td>237db43817f34988f9d543ca518be4ee</td>\n",
       "      <td>2015</td>\n",
       "      <td>10460.76</td>\n",
       "    </tr>\n",
       "    <tr>\n",
       "      <th>3</th>\n",
       "      <td>237db43817f34988f9d543ca518be4ee</td>\n",
       "      <td>2016</td>\n",
       "      <td>19739.29</td>\n",
       "    </tr>\n",
       "    <tr>\n",
       "      <th>4</th>\n",
       "      <td>237db43817f34988f9d543ca518be4ee</td>\n",
       "      <td>2017</td>\n",
       "      <td>26674.68</td>\n",
       "    </tr>\n",
       "  </tbody>\n",
       "</table>\n",
       "</div>"
      ],
      "text/plain": [
       "                                 id  year    amount\n",
       "0  237db43817f34988f9d543ca518be4ee  2013   7218.50\n",
       "1  237db43817f34988f9d543ca518be4ee  2014  10010.54\n",
       "2  237db43817f34988f9d543ca518be4ee  2015  10460.76\n",
       "3  237db43817f34988f9d543ca518be4ee  2016  19739.29\n",
       "4  237db43817f34988f9d543ca518be4ee  2017  26674.68"
      ]
     },
     "execution_count": 51,
     "metadata": {},
     "output_type": "execute_result"
    }
   ],
   "source": [
    "top_5_totals = top_5_df.groupby(['id', 'year'])['amount'].agg('sum').reset_index()\n",
    "top_5_totals.head()"
   ]
  },
  {
   "cell_type": "code",
   "execution_count": 52,
   "metadata": {},
   "outputs": [],
   "source": [
    "donor_list = ['donor_1', 'donor_2', 'donor_3', 'donor_4',\n",
    "                    'donor_5']"
   ]
  },
  {
   "cell_type": "code",
   "execution_count": 53,
   "metadata": {},
   "outputs": [
    {
     "data": {
      "text/plain": [
       "{'237db43817f34988f9d543ca518be4ee': 'donor_2',\n",
       " '39df9399f5384334a42905bcf0acdcbf': 'donor_4',\n",
       " '6f74ffb17cbb2b616b1eef06bd4acd0c': 'donor_1',\n",
       " 'a0e1d358aa17745ff3d3f4e4909356f3': 'donor_3',\n",
       " 'a1929a1172ad0b3d14bc84f54018c563': 'donor_5'}"
      ]
     },
     "execution_count": 53,
     "metadata": {},
     "output_type": "execute_result"
    }
   ],
   "source": [
    "#top_25_totals['alias'] = ''\n",
    "alias_dict = {}\n",
    "for idx, donor_id in enumerate(set(top_5_totals.id)):\n",
    "    alias_dict[donor_id] = donor_list[idx]\n",
    "    \n",
    "    \n",
    "alias_dict   "
   ]
  },
  {
   "cell_type": "code",
   "execution_count": 54,
   "metadata": {},
   "outputs": [
    {
     "data": {
      "text/plain": [
       "'donor_4'"
      ]
     },
     "execution_count": 54,
     "metadata": {},
     "output_type": "execute_result"
    }
   ],
   "source": [
    "alias_dict['39df9399f5384334a42905bcf0acdcbf']"
   ]
  },
  {
   "cell_type": "code",
   "execution_count": 57,
   "metadata": {},
   "outputs": [],
   "source": [
    "top_5_totals['alias'] = top_5_totals.id.map(alias_dict)"
   ]
  },
  {
   "cell_type": "code",
   "execution_count": 58,
   "metadata": {},
   "outputs": [],
   "source": [
    "top_5_totals['donor'] = top_5_totals.alias + '-' + top_5_totals.year.astype(str)"
   ]
  },
  {
   "cell_type": "code",
   "execution_count": 59,
   "metadata": {},
   "outputs": [
    {
     "data": {
      "image/png": "[encoded data removed]",
      "text/plain": [
       "<Figure size 720x720 with 1 Axes>"
      ]
     },
     "metadata": {},
     "output_type": "display_data"
    }
   ],
   "source": [
    "plt.figure(figsize = (10, 10))\n",
    "sns.set(style=\"whitegrid\")\n",
    "sns.barplot('amount', 'donor', data = top_5_totals)\n",
    "plt.xlabel('$')\n",
    "plt.ylabel('')\n",
    "plt.title('Top 5 Donors (2013-2018) in Dollars')\n",
    "plt.savefig('top5.png');"
   ]
  },
  {
   "cell_type": "code",
   "execution_count": 60,
   "metadata": {},
   "outputs": [
    {
     "data": {
      "text/html": [
       "<div>\n",
       "<style scoped>\n",
       "    .dataframe tbody tr th:only-of-type {\n",
       "        vertical-align: middle;\n",
       "    }\n",
       "\n",
       "    .dataframe tbody tr th {\n",
       "        vertical-align: top;\n",
       "    }\n",
       "\n",
       "    .dataframe thead th {\n",
       "        text-align: right;\n",
       "    }\n",
       "</style>\n",
       "<table border=\"1\" class=\"dataframe\">\n",
       "  <thead>\n",
       "    <tr style=\"text-align: right;\">\n",
       "      <th></th>\n",
       "      <th>id</th>\n",
       "      <th>created_at</th>\n",
       "      <th>amount</th>\n",
       "      <th>year</th>\n",
       "      <th>date</th>\n",
       "      <th>month</th>\n",
       "    </tr>\n",
       "  </thead>\n",
       "  <tbody>\n",
       "    <tr>\n",
       "      <th>0</th>\n",
       "      <td>00000ce845c00cbf0686c992fc369df4</td>\n",
       "      <td>2013-12-17 21:47:14</td>\n",
       "      <td>50.00</td>\n",
       "      <td>2013</td>\n",
       "      <td>2013-12-17</td>\n",
       "      <td>12</td>\n",
       "    </tr>\n",
       "    <tr>\n",
       "      <th>1</th>\n",
       "      <td>00002783bc5d108510f3f9666c8b1edd</td>\n",
       "      <td>2016-02-02 18:34:27</td>\n",
       "      <td>99.00</td>\n",
       "      <td>2016</td>\n",
       "      <td>2016-02-02</td>\n",
       "      <td>2</td>\n",
       "    </tr>\n",
       "    <tr>\n",
       "      <th>2</th>\n",
       "      <td>00002d44003ed46b066607c5455a999a</td>\n",
       "      <td>2016-10-25 20:15:11</td>\n",
       "      <td>10.00</td>\n",
       "      <td>2016</td>\n",
       "      <td>2016-10-25</td>\n",
       "      <td>10</td>\n",
       "    </tr>\n",
       "    <tr>\n",
       "      <th>3</th>\n",
       "      <td>00002d44003ed46b066607c5455a999a</td>\n",
       "      <td>2017-01-16 01:11:20</td>\n",
       "      <td>15.51</td>\n",
       "      <td>2017</td>\n",
       "      <td>2017-01-16</td>\n",
       "      <td>1</td>\n",
       "    </tr>\n",
       "    <tr>\n",
       "      <th>4</th>\n",
       "      <td>00002d44003ed46b066607c5455a999a</td>\n",
       "      <td>2017-01-16 14:20:10</td>\n",
       "      <td>100.00</td>\n",
       "      <td>2017</td>\n",
       "      <td>2017-01-16</td>\n",
       "      <td>1</td>\n",
       "    </tr>\n",
       "  </tbody>\n",
       "</table>\n",
       "</div>"
      ],
      "text/plain": [
       "                                 id          created_at  amount  year  \\\n",
       "0  00000ce845c00cbf0686c992fc369df4 2013-12-17 21:47:14   50.00  2013   \n",
       "1  00002783bc5d108510f3f9666c8b1edd 2016-02-02 18:34:27   99.00  2016   \n",
       "2  00002d44003ed46b066607c5455a999a 2016-10-25 20:15:11   10.00  2016   \n",
       "3  00002d44003ed46b066607c5455a999a 2017-01-16 01:11:20   15.51  2017   \n",
       "4  00002d44003ed46b066607c5455a999a 2017-01-16 14:20:10  100.00  2017   \n",
       "\n",
       "         date  month  \n",
       "0  2013-12-17     12  \n",
       "1  2016-02-02      2  \n",
       "2  2016-10-25     10  \n",
       "3  2017-01-16      1  \n",
       "4  2017-01-16      1  "
      ]
     },
     "execution_count": 60,
     "metadata": {},
     "output_type": "execute_result"
    }
   ],
   "source": [
    "donor_df.head()"
   ]
  },
  {
   "cell_type": "code",
   "execution_count": 61,
   "metadata": {
    "collapsed": true
   },
   "outputs": [],
   "source": [
    "\n",
    "donors2013 = donations2013.id.unique()\n",
    "donors2014 = donations2014.id.unique()\n",
    "donors2015 = donations2015.id.unique()\n",
    "donors2016 = donations2016.id.unique()\n",
    "donors2017 = donations2017.id.unique()\n"
   ]
  },
  {
   "cell_type": "code",
   "execution_count": 62,
   "metadata": {},
   "outputs": [
    {
     "name": "stdout",
     "output_type": "stream",
     "text": [
      "Donors retained from 2013 to 2014: 124857\n"
     ]
    }
   ],
   "source": [
    "print('Donors retained from 2013 to 2014:', donors2014.shape[0] - len(list(set(donors2013).difference(donors2014))))"
   ]
  },
  {
   "cell_type": "code",
   "execution_count": 63,
   "metadata": {},
   "outputs": [
    {
     "name": "stdout",
     "output_type": "stream",
     "text": [
      "Donors retained from 2014 to 2015: 137983\n"
     ]
    }
   ],
   "source": [
    "print('Donors retained from 2014 to 2015:', donors2015.shape[0] - len(list(set(donors2014).difference(donors2015))))"
   ]
  },
  {
   "cell_type": "code",
   "execution_count": 64,
   "metadata": {},
   "outputs": [
    {
     "name": "stdout",
     "output_type": "stream",
     "text": [
      "Donors retained from 2015 to 2016: 190246\n"
     ]
    }
   ],
   "source": [
    "print('Donors retained from 2015 to 2016:', donors2016.shape[0] - len(list(set(donors2015).difference(donors2016))))"
   ]
  },
  {
   "cell_type": "code",
   "execution_count": 65,
   "metadata": {},
   "outputs": [
    {
     "name": "stdout",
     "output_type": "stream",
     "text": [
      "Donors retained from 2016 to 2017: 118451\n"
     ]
    }
   ],
   "source": [
    "print('Donors retained from 2016 to 2017:', donors2017.shape[0] - len(list(set(donors2016).difference(donors2017))))"
   ]
  },
  {
   "cell_type": "code",
   "execution_count": 66,
   "metadata": {},
   "outputs": [
    {
     "name": "stdout",
     "output_type": "stream",
     "text": [
      "acquired 2014: 257960\n"
     ]
    }
   ],
   "source": [
    "print('acquired 2014:', len(list(set(donors2013).difference(donors2014))))"
   ]
  },
  {
   "cell_type": "code",
   "execution_count": 67,
   "metadata": {},
   "outputs": [
    {
     "name": "stdout",
     "output_type": "stream",
     "text": [
      "acquired 2015: 308065\n"
     ]
    }
   ],
   "source": [
    "print('acquired 2015:', len(list(set(donors2014).difference(donors2015))))"
   ]
  },
  {
   "cell_type": "code",
   "execution_count": 68,
   "metadata": {},
   "outputs": [
    {
     "name": "stdout",
     "output_type": "stream",
     "text": [
      "acquired 2016: 365597\n"
     ]
    }
   ],
   "source": [
    "print('acquired 2016:', len(list(set(donors2015).difference(donors2016))))"
   ]
  },
  {
   "cell_type": "code",
   "execution_count": 69,
   "metadata": {},
   "outputs": [
    {
     "name": "stdout",
     "output_type": "stream",
     "text": [
      "acquired 2017: 456148\n"
     ]
    }
   ],
   "source": [
    "print('acquired 2017:', len(list(set(donors2016).difference(donors2017))))"
   ]
  },
  {
   "cell_type": "code",
   "execution_count": null,
   "metadata": {
    "collapsed": true
   },
   "outputs": [],
   "source": []
  },
  {
   "cell_type": "code",
   "execution_count": null,
   "metadata": {
    "collapsed": true
   },
   "outputs": [],
   "source": []
  }
 ],
 "metadata": {
  "kernelspec": {
   "display_name": "Python 3",
   "language": "python",
   "name": "python3"
  },
  "language_info": {
   "codemirror_mode": {
    "name": "ipython",
    "version": 3
   },
   "file_extension": ".py",
   "mimetype": "text/x-python",
   "name": "python",
   "nbconvert_exporter": "python",
   "pygments_lexer": "ipython3",
   "version": "3.6.7"
  }
 },
 "nbformat": 4,
 "nbformat_minor": 2
}
